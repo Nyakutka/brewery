{
 "cells": [
  {
   "cell_type": "code",
   "execution_count": 1,
   "metadata": {},
   "outputs": [],
   "source": [
    "from sqlalchemy.engine import URL\n",
    "from sqlalchemy import create_engine\n",
    "import pandas as pd\n",
    "\n",
    "connection_string = \"DRIVER={SQL Server};SERVER=NYAKUTKA;DATABASE=brewery;Truster_Connections=yes\"\n",
    "connection_url = URL.create(\"mssql+pyodbc\", query={\"odbc_connect\": connection_string})\n",
    "engine = create_engine(connection_url)"
   ]
  },
  {
   "cell_type": "markdown",
   "metadata": {},
   "source": [
    "# Views:"
   ]
  },
  {
   "cell_type": "markdown",
   "metadata": {},
   "source": [
    "#### 1) Вывод каталога товаров, его количества на складе, и цены со скидкой (сложный: таблицы products, stock)\n",
    "\n",
    "```sql\n",
    "create view ProductsStockView as\n",
    "\tselect product_name,\n",
    "\t\tproduct_type,\n",
    "\t\tcost_price,\n",
    "\t\tretail_price,\n",
    "\t\tdiscount_price, \n",
    "\t\tamount \n",
    "\tfrom products\n",
    "\t\tjoin stock on products.product_id=stock.product_id\n",
    "GO\n",
    "```"
   ]
  },
  {
   "cell_type": "code",
   "execution_count": 2,
   "metadata": {},
   "outputs": [
    {
     "data": {
      "text/html": [
       "<div>\n",
       "<style scoped>\n",
       "    .dataframe tbody tr th:only-of-type {\n",
       "        vertical-align: middle;\n",
       "    }\n",
       "\n",
       "    .dataframe tbody tr th {\n",
       "        vertical-align: top;\n",
       "    }\n",
       "\n",
       "    .dataframe thead th {\n",
       "        text-align: right;\n",
       "    }\n",
       "</style>\n",
       "<table border=\"1\" class=\"dataframe\">\n",
       "  <thead>\n",
       "    <tr style=\"text-align: right;\">\n",
       "      <th></th>\n",
       "      <th>product_name</th>\n",
       "      <th>product_type</th>\n",
       "      <th>cost_price</th>\n",
       "      <th>retail_price</th>\n",
       "      <th>discount_price</th>\n",
       "      <th>amount</th>\n",
       "    </tr>\n",
       "  </thead>\n",
       "  <tbody>\n",
       "    <tr>\n",
       "      <th>0</th>\n",
       "      <td>Балтика 7</td>\n",
       "      <td>Пиво</td>\n",
       "      <td>67.0</td>\n",
       "      <td>92.46</td>\n",
       "      <td>83.21</td>\n",
       "      <td>1</td>\n",
       "    </tr>\n",
       "    <tr>\n",
       "      <th>1</th>\n",
       "      <td>Балтика 8</td>\n",
       "      <td>Пиво</td>\n",
       "      <td>68.0</td>\n",
       "      <td>93.84</td>\n",
       "      <td>93.84</td>\n",
       "      <td>2</td>\n",
       "    </tr>\n",
       "    <tr>\n",
       "      <th>2</th>\n",
       "      <td>Балтика 9</td>\n",
       "      <td>Пиво</td>\n",
       "      <td>69.0</td>\n",
       "      <td>95.22</td>\n",
       "      <td>76.18</td>\n",
       "      <td>3</td>\n",
       "    </tr>\n",
       "    <tr>\n",
       "      <th>3</th>\n",
       "      <td>Strongbow яблоко</td>\n",
       "      <td>Сидр</td>\n",
       "      <td>57.0</td>\n",
       "      <td>78.66</td>\n",
       "      <td>78.66</td>\n",
       "      <td>4</td>\n",
       "    </tr>\n",
       "    <tr>\n",
       "      <th>4</th>\n",
       "      <td>Strongbow груша</td>\n",
       "      <td>Сидр</td>\n",
       "      <td>58.0</td>\n",
       "      <td>80.04</td>\n",
       "      <td>56.03</td>\n",
       "      <td>5</td>\n",
       "    </tr>\n",
       "  </tbody>\n",
       "</table>\n",
       "</div>"
      ],
      "text/plain": [
       "       product_name product_type  cost_price  retail_price  discount_price  \\\n",
       "0         Балтика 7         Пиво        67.0         92.46           83.21   \n",
       "1         Балтика 8         Пиво        68.0         93.84           93.84   \n",
       "2         Балтика 9         Пиво        69.0         95.22           76.18   \n",
       "3  Strongbow яблоко         Сидр        57.0         78.66           78.66   \n",
       "4   Strongbow груша         Сидр        58.0         80.04           56.03   \n",
       "\n",
       "   amount  \n",
       "0       1  \n",
       "1       2  \n",
       "2       3  \n",
       "3       4  \n",
       "4       5  "
      ]
     },
     "execution_count": 2,
     "metadata": {},
     "output_type": "execute_result"
    }
   ],
   "source": [
    "tableResult = pd.read_sql(\"SELECT * FROM ProductsStockView\", engine)\n",
    "tableResult"
   ]
  },
  {
   "cell_type": "markdown",
   "metadata": {},
   "source": [
    "#### 2) Вывод всех заказов и их содержимого (сложный: таблицы orders, order_details, customers)\n",
    "\n",
    "```sql\n",
    "create view OrdersOrderDetailsCustomersView as\n",
    "select orders.order_id,\n",
    "\t   customer_name,\n",
    "\t   order_date,\n",
    "\t   orders.order_status,\n",
    "\t   products.product_id,\n",
    "\t   product_name,\n",
    "\t   discount_price,\n",
    "\t   amount,\n",
    "\t   total_cost\n",
    "\t\tfrom orders \n",
    "\t\t\tjoin order_details on orders.order_id=order_details.order_id \n",
    "\t\t\tjoin products on order_details.product_id=products.product_id\n",
    "\t\t\tjoin customers on orders.customer_id=customers.customer_id\n",
    "go\n",
    "```\n"
   ]
  },
  {
   "cell_type": "code",
   "execution_count": 3,
   "metadata": {},
   "outputs": [
    {
     "data": {
      "text/html": [
       "<div>\n",
       "<style scoped>\n",
       "    .dataframe tbody tr th:only-of-type {\n",
       "        vertical-align: middle;\n",
       "    }\n",
       "\n",
       "    .dataframe tbody tr th {\n",
       "        vertical-align: top;\n",
       "    }\n",
       "\n",
       "    .dataframe thead th {\n",
       "        text-align: right;\n",
       "    }\n",
       "</style>\n",
       "<table border=\"1\" class=\"dataframe\">\n",
       "  <thead>\n",
       "    <tr style=\"text-align: right;\">\n",
       "      <th></th>\n",
       "      <th>order_id</th>\n",
       "      <th>customer_name</th>\n",
       "      <th>order_date</th>\n",
       "      <th>order_status</th>\n",
       "      <th>product_id</th>\n",
       "      <th>product_name</th>\n",
       "      <th>discount_price</th>\n",
       "      <th>amount</th>\n",
       "      <th>total_cost</th>\n",
       "    </tr>\n",
       "  </thead>\n",
       "  <tbody>\n",
       "    <tr>\n",
       "      <th>0</th>\n",
       "      <td>1</td>\n",
       "      <td>Красное&amp;Белое</td>\n",
       "      <td>2022-05-23 14:25:10</td>\n",
       "      <td>pending</td>\n",
       "      <td>1</td>\n",
       "      <td>Балтика 7</td>\n",
       "      <td>83.21</td>\n",
       "      <td>1</td>\n",
       "      <td>575.61</td>\n",
       "    </tr>\n",
       "    <tr>\n",
       "      <th>1</th>\n",
       "      <td>1</td>\n",
       "      <td>Красное&amp;Белое</td>\n",
       "      <td>2022-05-23 14:25:10</td>\n",
       "      <td>pending</td>\n",
       "      <td>2</td>\n",
       "      <td>Балтика 8</td>\n",
       "      <td>93.84</td>\n",
       "      <td>2</td>\n",
       "      <td>575.61</td>\n",
       "    </tr>\n",
       "    <tr>\n",
       "      <th>2</th>\n",
       "      <td>1</td>\n",
       "      <td>Красное&amp;Белое</td>\n",
       "      <td>2022-05-23 14:25:10</td>\n",
       "      <td>pending</td>\n",
       "      <td>3</td>\n",
       "      <td>Балтика 9</td>\n",
       "      <td>76.18</td>\n",
       "      <td>4</td>\n",
       "      <td>575.61</td>\n",
       "    </tr>\n",
       "    <tr>\n",
       "      <th>3</th>\n",
       "      <td>2</td>\n",
       "      <td>Красное&amp;Белое</td>\n",
       "      <td>2004-05-23 14:25:10</td>\n",
       "      <td>processing</td>\n",
       "      <td>2</td>\n",
       "      <td>Балтика 8</td>\n",
       "      <td>93.84</td>\n",
       "      <td>2</td>\n",
       "      <td>730.86</td>\n",
       "    </tr>\n",
       "    <tr>\n",
       "      <th>4</th>\n",
       "      <td>2</td>\n",
       "      <td>Красное&amp;Белое</td>\n",
       "      <td>2004-05-23 14:25:10</td>\n",
       "      <td>processing</td>\n",
       "      <td>3</td>\n",
       "      <td>Балтика 9</td>\n",
       "      <td>76.18</td>\n",
       "      <td>3</td>\n",
       "      <td>730.86</td>\n",
       "    </tr>\n",
       "    <tr>\n",
       "      <th>5</th>\n",
       "      <td>2</td>\n",
       "      <td>Красное&amp;Белое</td>\n",
       "      <td>2004-05-23 14:25:10</td>\n",
       "      <td>processing</td>\n",
       "      <td>4</td>\n",
       "      <td>Strongbow яблоко</td>\n",
       "      <td>78.66</td>\n",
       "      <td>4</td>\n",
       "      <td>730.86</td>\n",
       "    </tr>\n",
       "    <tr>\n",
       "      <th>6</th>\n",
       "      <td>3</td>\n",
       "      <td>РосАл</td>\n",
       "      <td>2004-05-23 14:25:10</td>\n",
       "      <td>pending</td>\n",
       "      <td>1</td>\n",
       "      <td>Балтика 7</td>\n",
       "      <td>83.21</td>\n",
       "      <td>5</td>\n",
       "      <td>1265.34</td>\n",
       "    </tr>\n",
       "    <tr>\n",
       "      <th>7</th>\n",
       "      <td>3</td>\n",
       "      <td>РосАл</td>\n",
       "      <td>2004-05-23 14:25:10</td>\n",
       "      <td>pending</td>\n",
       "      <td>3</td>\n",
       "      <td>Балтика 9</td>\n",
       "      <td>76.18</td>\n",
       "      <td>6</td>\n",
       "      <td>1265.34</td>\n",
       "    </tr>\n",
       "    <tr>\n",
       "      <th>8</th>\n",
       "      <td>3</td>\n",
       "      <td>РосАл</td>\n",
       "      <td>2004-05-23 14:25:10</td>\n",
       "      <td>pending</td>\n",
       "      <td>5</td>\n",
       "      <td>Strongbow груша</td>\n",
       "      <td>56.03</td>\n",
       "      <td>7</td>\n",
       "      <td>1265.34</td>\n",
       "    </tr>\n",
       "    <tr>\n",
       "      <th>9</th>\n",
       "      <td>4</td>\n",
       "      <td>РосАл</td>\n",
       "      <td>2004-05-23 14:25:10</td>\n",
       "      <td>completed</td>\n",
       "      <td>2</td>\n",
       "      <td>Балтика 8</td>\n",
       "      <td>93.84</td>\n",
       "      <td>2</td>\n",
       "      <td>1121.68</td>\n",
       "    </tr>\n",
       "    <tr>\n",
       "      <th>10</th>\n",
       "      <td>4</td>\n",
       "      <td>РосАл</td>\n",
       "      <td>2004-05-23 14:25:10</td>\n",
       "      <td>completed</td>\n",
       "      <td>3</td>\n",
       "      <td>Балтика 9</td>\n",
       "      <td>76.18</td>\n",
       "      <td>4</td>\n",
       "      <td>1121.68</td>\n",
       "    </tr>\n",
       "    <tr>\n",
       "      <th>11</th>\n",
       "      <td>4</td>\n",
       "      <td>РосАл</td>\n",
       "      <td>2004-05-23 14:25:10</td>\n",
       "      <td>completed</td>\n",
       "      <td>4</td>\n",
       "      <td>Strongbow яблоко</td>\n",
       "      <td>78.66</td>\n",
       "      <td>8</td>\n",
       "      <td>1121.68</td>\n",
       "    </tr>\n",
       "    <tr>\n",
       "      <th>12</th>\n",
       "      <td>5</td>\n",
       "      <td>РосАл</td>\n",
       "      <td>2004-05-23 14:25:10</td>\n",
       "      <td>cancelled</td>\n",
       "      <td>1</td>\n",
       "      <td>Балтика 7</td>\n",
       "      <td>83.21</td>\n",
       "      <td>6</td>\n",
       "      <td>3114.18</td>\n",
       "    </tr>\n",
       "    <tr>\n",
       "      <th>13</th>\n",
       "      <td>5</td>\n",
       "      <td>РосАл</td>\n",
       "      <td>2004-05-23 14:25:10</td>\n",
       "      <td>cancelled</td>\n",
       "      <td>3</td>\n",
       "      <td>Балтика 9</td>\n",
       "      <td>76.18</td>\n",
       "      <td>24</td>\n",
       "      <td>3114.18</td>\n",
       "    </tr>\n",
       "    <tr>\n",
       "      <th>14</th>\n",
       "      <td>5</td>\n",
       "      <td>РосАл</td>\n",
       "      <td>2004-05-23 14:25:10</td>\n",
       "      <td>cancelled</td>\n",
       "      <td>4</td>\n",
       "      <td>Strongbow яблоко</td>\n",
       "      <td>78.66</td>\n",
       "      <td>10</td>\n",
       "      <td>3114.18</td>\n",
       "    </tr>\n",
       "  </tbody>\n",
       "</table>\n",
       "</div>"
      ],
      "text/plain": [
       "    order_id  customer_name          order_date order_status  product_id  \\\n",
       "0          1  Красное&Белое 2022-05-23 14:25:10      pending           1   \n",
       "1          1  Красное&Белое 2022-05-23 14:25:10      pending           2   \n",
       "2          1  Красное&Белое 2022-05-23 14:25:10      pending           3   \n",
       "3          2  Красное&Белое 2004-05-23 14:25:10   processing           2   \n",
       "4          2  Красное&Белое 2004-05-23 14:25:10   processing           3   \n",
       "5          2  Красное&Белое 2004-05-23 14:25:10   processing           4   \n",
       "6          3          РосАл 2004-05-23 14:25:10      pending           1   \n",
       "7          3          РосАл 2004-05-23 14:25:10      pending           3   \n",
       "8          3          РосАл 2004-05-23 14:25:10      pending           5   \n",
       "9          4          РосАл 2004-05-23 14:25:10    completed           2   \n",
       "10         4          РосАл 2004-05-23 14:25:10    completed           3   \n",
       "11         4          РосАл 2004-05-23 14:25:10    completed           4   \n",
       "12         5          РосАл 2004-05-23 14:25:10    cancelled           1   \n",
       "13         5          РосАл 2004-05-23 14:25:10    cancelled           3   \n",
       "14         5          РосАл 2004-05-23 14:25:10    cancelled           4   \n",
       "\n",
       "        product_name  discount_price  amount  total_cost  \n",
       "0          Балтика 7           83.21       1      575.61  \n",
       "1          Балтика 8           93.84       2      575.61  \n",
       "2          Балтика 9           76.18       4      575.61  \n",
       "3          Балтика 8           93.84       2      730.86  \n",
       "4          Балтика 9           76.18       3      730.86  \n",
       "5   Strongbow яблоко           78.66       4      730.86  \n",
       "6          Балтика 7           83.21       5     1265.34  \n",
       "7          Балтика 9           76.18       6     1265.34  \n",
       "8    Strongbow груша           56.03       7     1265.34  \n",
       "9          Балтика 8           93.84       2     1121.68  \n",
       "10         Балтика 9           76.18       4     1121.68  \n",
       "11  Strongbow яблоко           78.66       8     1121.68  \n",
       "12         Балтика 7           83.21       6     3114.18  \n",
       "13         Балтика 9           76.18      24     3114.18  \n",
       "14  Strongbow яблоко           78.66      10     3114.18  "
      ]
     },
     "execution_count": 3,
     "metadata": {},
     "output_type": "execute_result"
    }
   ],
   "source": [
    "tableResult = pd.read_sql(\"SELECT * FROM OrdersOrderDetailsCustomersView\", engine)\n",
    "tableResult"
   ]
  },
  {
   "cell_type": "markdown",
   "metadata": {},
   "source": [
    "# Процедуры (все запросы)"
   ]
  },
  {
   "cell_type": "markdown",
   "metadata": {},
   "source": [
    "## Вывод"
   ]
  },
  {
   "cell_type": "markdown",
   "metadata": {},
   "source": [
    "### 1) Вывод базы товаров для сотрудника завода с количеством товара на складе и себестоимости продукта(сложный)"
   ]
  },
  {
   "cell_type": "code",
   "execution_count": 4,
   "metadata": {},
   "outputs": [
    {
     "ename": "ProgrammingError",
     "evalue": "(pyodbc.ProgrammingError) ('42000', '[42000] [Microsoft][ODBC SQL Server Driver][SQL Server]Не удалось найти хранимую процедуру \"ShowProductsBase\". (2812) (SQLExecDirectW)')\n[SQL: exec ShowProductsBase]\n(Background on this error at: https://sqlalche.me/e/14/f405)",
     "output_type": "error",
     "traceback": [
      "\u001b[1;31m---------------------------------------------------------------------------\u001b[0m",
      "\u001b[1;31mProgrammingError\u001b[0m                          Traceback (most recent call last)",
      "File \u001b[1;32mc:\\Users\\capov\\AppData\\Local\\Programs\\Python\\Python310\\lib\\site-packages\\sqlalchemy\\engine\\base.py:1900\u001b[0m, in \u001b[0;36mConnection._execute_context\u001b[1;34m(self, dialect, constructor, statement, parameters, execution_options, *args, **kw)\u001b[0m\n\u001b[0;32m   1899\u001b[0m     \u001b[39mif\u001b[39;00m \u001b[39mnot\u001b[39;00m evt_handled:\n\u001b[1;32m-> 1900\u001b[0m         \u001b[39mself\u001b[39;49m\u001b[39m.\u001b[39;49mdialect\u001b[39m.\u001b[39;49mdo_execute(\n\u001b[0;32m   1901\u001b[0m             cursor, statement, parameters, context\n\u001b[0;32m   1902\u001b[0m         )\n\u001b[0;32m   1904\u001b[0m \u001b[39mif\u001b[39;00m \u001b[39mself\u001b[39m\u001b[39m.\u001b[39m_has_events \u001b[39mor\u001b[39;00m \u001b[39mself\u001b[39m\u001b[39m.\u001b[39mengine\u001b[39m.\u001b[39m_has_events:\n",
      "File \u001b[1;32mc:\\Users\\capov\\AppData\\Local\\Programs\\Python\\Python310\\lib\\site-packages\\sqlalchemy\\engine\\default.py:736\u001b[0m, in \u001b[0;36mDefaultDialect.do_execute\u001b[1;34m(self, cursor, statement, parameters, context)\u001b[0m\n\u001b[0;32m    735\u001b[0m \u001b[39mdef\u001b[39;00m \u001b[39mdo_execute\u001b[39m(\u001b[39mself\u001b[39m, cursor, statement, parameters, context\u001b[39m=\u001b[39m\u001b[39mNone\u001b[39;00m):\n\u001b[1;32m--> 736\u001b[0m     cursor\u001b[39m.\u001b[39;49mexecute(statement, parameters)\n",
      "\u001b[1;31mProgrammingError\u001b[0m: ('42000', '[42000] [Microsoft][ODBC SQL Server Driver][SQL Server]Не удалось найти хранимую процедуру \"ShowProductsBase\". (2812) (SQLExecDirectW)')",
      "\nThe above exception was the direct cause of the following exception:\n",
      "\u001b[1;31mProgrammingError\u001b[0m                          Traceback (most recent call last)",
      "Cell \u001b[1;32mIn [4], line 1\u001b[0m\n\u001b[1;32m----> 1\u001b[0m tableResult \u001b[39m=\u001b[39m pd\u001b[39m.\u001b[39;49mread_sql(\u001b[39m\"\u001b[39;49m\u001b[39mexec ShowProductsBase\u001b[39;49m\u001b[39m\"\u001b[39;49m, engine)\n\u001b[0;32m      2\u001b[0m tableResult\n",
      "File \u001b[1;32mc:\\Users\\capov\\AppData\\Local\\Programs\\Python\\Python310\\lib\\site-packages\\pandas\\io\\sql.py:590\u001b[0m, in \u001b[0;36mread_sql\u001b[1;34m(sql, con, index_col, coerce_float, params, parse_dates, columns, chunksize)\u001b[0m\n\u001b[0;32m    581\u001b[0m     \u001b[39mreturn\u001b[39;00m pandas_sql\u001b[39m.\u001b[39mread_table(\n\u001b[0;32m    582\u001b[0m         sql,\n\u001b[0;32m    583\u001b[0m         index_col\u001b[39m=\u001b[39mindex_col,\n\u001b[1;32m   (...)\u001b[0m\n\u001b[0;32m    587\u001b[0m         chunksize\u001b[39m=\u001b[39mchunksize,\n\u001b[0;32m    588\u001b[0m     )\n\u001b[0;32m    589\u001b[0m \u001b[39melse\u001b[39;00m:\n\u001b[1;32m--> 590\u001b[0m     \u001b[39mreturn\u001b[39;00m pandas_sql\u001b[39m.\u001b[39;49mread_query(\n\u001b[0;32m    591\u001b[0m         sql,\n\u001b[0;32m    592\u001b[0m         index_col\u001b[39m=\u001b[39;49mindex_col,\n\u001b[0;32m    593\u001b[0m         params\u001b[39m=\u001b[39;49mparams,\n\u001b[0;32m    594\u001b[0m         coerce_float\u001b[39m=\u001b[39;49mcoerce_float,\n\u001b[0;32m    595\u001b[0m         parse_dates\u001b[39m=\u001b[39;49mparse_dates,\n\u001b[0;32m    596\u001b[0m         chunksize\u001b[39m=\u001b[39;49mchunksize,\n\u001b[0;32m    597\u001b[0m     )\n",
      "File \u001b[1;32mc:\\Users\\capov\\AppData\\Local\\Programs\\Python\\Python310\\lib\\site-packages\\pandas\\io\\sql.py:1560\u001b[0m, in \u001b[0;36mSQLDatabase.read_query\u001b[1;34m(self, sql, index_col, coerce_float, parse_dates, params, chunksize, dtype)\u001b[0m\n\u001b[0;32m   1512\u001b[0m \u001b[39m\"\"\"\u001b[39;00m\n\u001b[0;32m   1513\u001b[0m \u001b[39mRead SQL query into a DataFrame.\u001b[39;00m\n\u001b[0;32m   1514\u001b[0m \n\u001b[1;32m   (...)\u001b[0m\n\u001b[0;32m   1556\u001b[0m \n\u001b[0;32m   1557\u001b[0m \u001b[39m\"\"\"\u001b[39;00m\n\u001b[0;32m   1558\u001b[0m args \u001b[39m=\u001b[39m _convert_params(sql, params)\n\u001b[1;32m-> 1560\u001b[0m result \u001b[39m=\u001b[39m \u001b[39mself\u001b[39;49m\u001b[39m.\u001b[39;49mexecute(\u001b[39m*\u001b[39;49margs)\n\u001b[0;32m   1561\u001b[0m columns \u001b[39m=\u001b[39m result\u001b[39m.\u001b[39mkeys()\n\u001b[0;32m   1563\u001b[0m \u001b[39mif\u001b[39;00m chunksize \u001b[39mis\u001b[39;00m \u001b[39mnot\u001b[39;00m \u001b[39mNone\u001b[39;00m:\n",
      "File \u001b[1;32mc:\\Users\\capov\\AppData\\Local\\Programs\\Python\\Python310\\lib\\site-packages\\pandas\\io\\sql.py:1405\u001b[0m, in \u001b[0;36mSQLDatabase.execute\u001b[1;34m(self, *args, **kwargs)\u001b[0m\n\u001b[0;32m   1403\u001b[0m \u001b[39mdef\u001b[39;00m \u001b[39mexecute\u001b[39m(\u001b[39mself\u001b[39m, \u001b[39m*\u001b[39margs, \u001b[39m*\u001b[39m\u001b[39m*\u001b[39mkwargs):\n\u001b[0;32m   1404\u001b[0m     \u001b[39m\"\"\"Simple passthrough to SQLAlchemy connectable\"\"\"\u001b[39;00m\n\u001b[1;32m-> 1405\u001b[0m     \u001b[39mreturn\u001b[39;00m \u001b[39mself\u001b[39m\u001b[39m.\u001b[39mconnectable\u001b[39m.\u001b[39mexecution_options()\u001b[39m.\u001b[39mexecute(\u001b[39m*\u001b[39margs, \u001b[39m*\u001b[39m\u001b[39m*\u001b[39mkwargs)\n",
      "File \u001b[1;32m<string>:2\u001b[0m, in \u001b[0;36mexecute\u001b[1;34m(self, statement, *multiparams, **params)\u001b[0m\n",
      "File \u001b[1;32mc:\\Users\\capov\\AppData\\Local\\Programs\\Python\\Python310\\lib\\site-packages\\sqlalchemy\\util\\deprecations.py:402\u001b[0m, in \u001b[0;36m_decorate_with_warning.<locals>.warned\u001b[1;34m(fn, *args, **kwargs)\u001b[0m\n\u001b[0;32m    400\u001b[0m \u001b[39mif\u001b[39;00m \u001b[39mnot\u001b[39;00m skip_warning:\n\u001b[0;32m    401\u001b[0m     _warn_with_version(message, version, wtype, stacklevel\u001b[39m=\u001b[39m\u001b[39m3\u001b[39m)\n\u001b[1;32m--> 402\u001b[0m \u001b[39mreturn\u001b[39;00m fn(\u001b[39m*\u001b[39margs, \u001b[39m*\u001b[39m\u001b[39m*\u001b[39mkwargs)\n",
      "File \u001b[1;32mc:\\Users\\capov\\AppData\\Local\\Programs\\Python\\Python310\\lib\\site-packages\\sqlalchemy\\engine\\base.py:3257\u001b[0m, in \u001b[0;36mEngine.execute\u001b[1;34m(self, statement, *multiparams, **params)\u001b[0m\n\u001b[0;32m   3239\u001b[0m \u001b[39m\"\"\"Executes the given construct and returns a\u001b[39;00m\n\u001b[0;32m   3240\u001b[0m \u001b[39m:class:`_engine.CursorResult`.\u001b[39;00m\n\u001b[0;32m   3241\u001b[0m \n\u001b[1;32m   (...)\u001b[0m\n\u001b[0;32m   3254\u001b[0m \n\u001b[0;32m   3255\u001b[0m \u001b[39m\"\"\"\u001b[39;00m\n\u001b[0;32m   3256\u001b[0m connection \u001b[39m=\u001b[39m \u001b[39mself\u001b[39m\u001b[39m.\u001b[39mconnect(close_with_result\u001b[39m=\u001b[39m\u001b[39mTrue\u001b[39;00m)\n\u001b[1;32m-> 3257\u001b[0m \u001b[39mreturn\u001b[39;00m connection\u001b[39m.\u001b[39mexecute(statement, \u001b[39m*\u001b[39mmultiparams, \u001b[39m*\u001b[39m\u001b[39m*\u001b[39mparams)\n",
      "File \u001b[1;32mc:\\Users\\capov\\AppData\\Local\\Programs\\Python\\Python310\\lib\\site-packages\\sqlalchemy\\engine\\base.py:1365\u001b[0m, in \u001b[0;36mConnection.execute\u001b[1;34m(self, statement, *multiparams, **params)\u001b[0m\n\u001b[0;32m   1356\u001b[0m \u001b[39mif\u001b[39;00m \u001b[39misinstance\u001b[39m(statement, util\u001b[39m.\u001b[39mstring_types):\n\u001b[0;32m   1357\u001b[0m     util\u001b[39m.\u001b[39mwarn_deprecated_20(\n\u001b[0;32m   1358\u001b[0m         \u001b[39m\"\u001b[39m\u001b[39mPassing a string to Connection.execute() is \u001b[39m\u001b[39m\"\u001b[39m\n\u001b[0;32m   1359\u001b[0m         \u001b[39m\"\u001b[39m\u001b[39mdeprecated and will be removed in version 2.0.  Use the \u001b[39m\u001b[39m\"\u001b[39m\n\u001b[1;32m   (...)\u001b[0m\n\u001b[0;32m   1362\u001b[0m         \u001b[39m\"\u001b[39m\u001b[39mdriver-level SQL string.\u001b[39m\u001b[39m\"\u001b[39m\n\u001b[0;32m   1363\u001b[0m     )\n\u001b[1;32m-> 1365\u001b[0m     \u001b[39mreturn\u001b[39;00m \u001b[39mself\u001b[39;49m\u001b[39m.\u001b[39;49m_exec_driver_sql(\n\u001b[0;32m   1366\u001b[0m         statement,\n\u001b[0;32m   1367\u001b[0m         multiparams,\n\u001b[0;32m   1368\u001b[0m         params,\n\u001b[0;32m   1369\u001b[0m         _EMPTY_EXECUTION_OPTS,\n\u001b[0;32m   1370\u001b[0m         future\u001b[39m=\u001b[39;49m\u001b[39mFalse\u001b[39;49;00m,\n\u001b[0;32m   1371\u001b[0m     )\n\u001b[0;32m   1373\u001b[0m \u001b[39mtry\u001b[39;00m:\n\u001b[0;32m   1374\u001b[0m     meth \u001b[39m=\u001b[39m statement\u001b[39m.\u001b[39m_execute_on_connection\n",
      "File \u001b[1;32mc:\\Users\\capov\\AppData\\Local\\Programs\\Python\\Python310\\lib\\site-packages\\sqlalchemy\\engine\\base.py:1669\u001b[0m, in \u001b[0;36mConnection._exec_driver_sql\u001b[1;34m(self, statement, multiparams, params, execution_options, future)\u001b[0m\n\u001b[0;32m   1659\u001b[0m         (\n\u001b[0;32m   1660\u001b[0m             statement,\n\u001b[0;32m   1661\u001b[0m             distilled_params,\n\u001b[1;32m   (...)\u001b[0m\n\u001b[0;32m   1665\u001b[0m             statement, distilled_parameters, execution_options\n\u001b[0;32m   1666\u001b[0m         )\n\u001b[0;32m   1668\u001b[0m dialect \u001b[39m=\u001b[39m \u001b[39mself\u001b[39m\u001b[39m.\u001b[39mdialect\n\u001b[1;32m-> 1669\u001b[0m ret \u001b[39m=\u001b[39m \u001b[39mself\u001b[39;49m\u001b[39m.\u001b[39;49m_execute_context(\n\u001b[0;32m   1670\u001b[0m     dialect,\n\u001b[0;32m   1671\u001b[0m     dialect\u001b[39m.\u001b[39;49mexecution_ctx_cls\u001b[39m.\u001b[39;49m_init_statement,\n\u001b[0;32m   1672\u001b[0m     statement,\n\u001b[0;32m   1673\u001b[0m     distilled_parameters,\n\u001b[0;32m   1674\u001b[0m     execution_options,\n\u001b[0;32m   1675\u001b[0m     statement,\n\u001b[0;32m   1676\u001b[0m     distilled_parameters,\n\u001b[0;32m   1677\u001b[0m )\n\u001b[0;32m   1679\u001b[0m \u001b[39mif\u001b[39;00m \u001b[39mnot\u001b[39;00m future:\n\u001b[0;32m   1680\u001b[0m     \u001b[39mif\u001b[39;00m \u001b[39mself\u001b[39m\u001b[39m.\u001b[39m_has_events \u001b[39mor\u001b[39;00m \u001b[39mself\u001b[39m\u001b[39m.\u001b[39mengine\u001b[39m.\u001b[39m_has_events:\n",
      "File \u001b[1;32mc:\\Users\\capov\\AppData\\Local\\Programs\\Python\\Python310\\lib\\site-packages\\sqlalchemy\\engine\\base.py:1943\u001b[0m, in \u001b[0;36mConnection._execute_context\u001b[1;34m(self, dialect, constructor, statement, parameters, execution_options, *args, **kw)\u001b[0m\n\u001b[0;32m   1940\u001b[0m             branched\u001b[39m.\u001b[39mclose()\n\u001b[0;32m   1942\u001b[0m \u001b[39mexcept\u001b[39;00m \u001b[39mBaseException\u001b[39;00m \u001b[39mas\u001b[39;00m e:\n\u001b[1;32m-> 1943\u001b[0m     \u001b[39mself\u001b[39;49m\u001b[39m.\u001b[39;49m_handle_dbapi_exception(\n\u001b[0;32m   1944\u001b[0m         e, statement, parameters, cursor, context\n\u001b[0;32m   1945\u001b[0m     )\n\u001b[0;32m   1947\u001b[0m \u001b[39mreturn\u001b[39;00m result\n",
      "File \u001b[1;32mc:\\Users\\capov\\AppData\\Local\\Programs\\Python\\Python310\\lib\\site-packages\\sqlalchemy\\engine\\base.py:2124\u001b[0m, in \u001b[0;36mConnection._handle_dbapi_exception\u001b[1;34m(self, e, statement, parameters, cursor, context)\u001b[0m\n\u001b[0;32m   2122\u001b[0m     util\u001b[39m.\u001b[39mraise_(newraise, with_traceback\u001b[39m=\u001b[39mexc_info[\u001b[39m2\u001b[39m], from_\u001b[39m=\u001b[39me)\n\u001b[0;32m   2123\u001b[0m \u001b[39melif\u001b[39;00m should_wrap:\n\u001b[1;32m-> 2124\u001b[0m     util\u001b[39m.\u001b[39;49mraise_(\n\u001b[0;32m   2125\u001b[0m         sqlalchemy_exception, with_traceback\u001b[39m=\u001b[39;49mexc_info[\u001b[39m2\u001b[39;49m], from_\u001b[39m=\u001b[39;49me\n\u001b[0;32m   2126\u001b[0m     )\n\u001b[0;32m   2127\u001b[0m \u001b[39melse\u001b[39;00m:\n\u001b[0;32m   2128\u001b[0m     util\u001b[39m.\u001b[39mraise_(exc_info[\u001b[39m1\u001b[39m], with_traceback\u001b[39m=\u001b[39mexc_info[\u001b[39m2\u001b[39m])\n",
      "File \u001b[1;32mc:\\Users\\capov\\AppData\\Local\\Programs\\Python\\Python310\\lib\\site-packages\\sqlalchemy\\util\\compat.py:210\u001b[0m, in \u001b[0;36mraise_\u001b[1;34m(***failed resolving arguments***)\u001b[0m\n\u001b[0;32m    207\u001b[0m     exception\u001b[39m.\u001b[39m__cause__ \u001b[39m=\u001b[39m replace_context\n\u001b[0;32m    209\u001b[0m \u001b[39mtry\u001b[39;00m:\n\u001b[1;32m--> 210\u001b[0m     \u001b[39mraise\u001b[39;00m exception\n\u001b[0;32m    211\u001b[0m \u001b[39mfinally\u001b[39;00m:\n\u001b[0;32m    212\u001b[0m     \u001b[39m# credit to\u001b[39;00m\n\u001b[0;32m    213\u001b[0m     \u001b[39m# https://cosmicpercolator.com/2016/01/13/exception-leaks-in-python-2-and-3/\u001b[39;00m\n\u001b[0;32m    214\u001b[0m     \u001b[39m# as the __traceback__ object creates a cycle\u001b[39;00m\n\u001b[0;32m    215\u001b[0m     \u001b[39mdel\u001b[39;00m exception, replace_context, from_, with_traceback\n",
      "File \u001b[1;32mc:\\Users\\capov\\AppData\\Local\\Programs\\Python\\Python310\\lib\\site-packages\\sqlalchemy\\engine\\base.py:1900\u001b[0m, in \u001b[0;36mConnection._execute_context\u001b[1;34m(self, dialect, constructor, statement, parameters, execution_options, *args, **kw)\u001b[0m\n\u001b[0;32m   1898\u001b[0m                 \u001b[39mbreak\u001b[39;00m\n\u001b[0;32m   1899\u001b[0m     \u001b[39mif\u001b[39;00m \u001b[39mnot\u001b[39;00m evt_handled:\n\u001b[1;32m-> 1900\u001b[0m         \u001b[39mself\u001b[39;49m\u001b[39m.\u001b[39;49mdialect\u001b[39m.\u001b[39;49mdo_execute(\n\u001b[0;32m   1901\u001b[0m             cursor, statement, parameters, context\n\u001b[0;32m   1902\u001b[0m         )\n\u001b[0;32m   1904\u001b[0m \u001b[39mif\u001b[39;00m \u001b[39mself\u001b[39m\u001b[39m.\u001b[39m_has_events \u001b[39mor\u001b[39;00m \u001b[39mself\u001b[39m\u001b[39m.\u001b[39mengine\u001b[39m.\u001b[39m_has_events:\n\u001b[0;32m   1905\u001b[0m     \u001b[39mself\u001b[39m\u001b[39m.\u001b[39mdispatch\u001b[39m.\u001b[39mafter_cursor_execute(\n\u001b[0;32m   1906\u001b[0m         \u001b[39mself\u001b[39m,\n\u001b[0;32m   1907\u001b[0m         cursor,\n\u001b[1;32m   (...)\u001b[0m\n\u001b[0;32m   1911\u001b[0m         context\u001b[39m.\u001b[39mexecutemany,\n\u001b[0;32m   1912\u001b[0m     )\n",
      "File \u001b[1;32mc:\\Users\\capov\\AppData\\Local\\Programs\\Python\\Python310\\lib\\site-packages\\sqlalchemy\\engine\\default.py:736\u001b[0m, in \u001b[0;36mDefaultDialect.do_execute\u001b[1;34m(self, cursor, statement, parameters, context)\u001b[0m\n\u001b[0;32m    735\u001b[0m \u001b[39mdef\u001b[39;00m \u001b[39mdo_execute\u001b[39m(\u001b[39mself\u001b[39m, cursor, statement, parameters, context\u001b[39m=\u001b[39m\u001b[39mNone\u001b[39;00m):\n\u001b[1;32m--> 736\u001b[0m     cursor\u001b[39m.\u001b[39;49mexecute(statement, parameters)\n",
      "\u001b[1;31mProgrammingError\u001b[0m: (pyodbc.ProgrammingError) ('42000', '[42000] [Microsoft][ODBC SQL Server Driver][SQL Server]Не удалось найти хранимую процедуру \"ShowProductsBase\". (2812) (SQLExecDirectW)')\n[SQL: exec ShowProductsBase]\n(Background on this error at: https://sqlalche.me/e/14/f405)"
     ]
    }
   ],
   "source": [
    "tableResult = pd.read_sql(\"exec ShowProductsBase\", engine)\n",
    "tableResult"
   ]
  },
  {
   "cell_type": "markdown",
   "metadata": {},
   "source": [
    "### 2) Вывод каталога товаров для заказчика"
   ]
  },
  {
   "cell_type": "code",
   "execution_count": null,
   "metadata": {},
   "outputs": [],
   "source": []
  },
  {
   "cell_type": "markdown",
   "metadata": {},
   "source": [
    "### 3) Получить информацию о недостающих товарах на складе для существующих заказов(сложный)"
   ]
  },
  {
   "cell_type": "code",
   "execution_count": null,
   "metadata": {},
   "outputs": [],
   "source": []
  },
  {
   "cell_type": "markdown",
   "metadata": {},
   "source": [
    "### 4) Вывод информации обо всех заказах(сложный)"
   ]
  },
  {
   "cell_type": "code",
   "execution_count": null,
   "metadata": {},
   "outputs": [],
   "source": []
  },
  {
   "cell_type": "markdown",
   "metadata": {},
   "source": [
    "### 5) Вывод информации о своих заказах для заказчика"
   ]
  },
  {
   "cell_type": "code",
   "execution_count": null,
   "metadata": {},
   "outputs": [],
   "source": []
  },
  {
   "cell_type": "markdown",
   "metadata": {},
   "source": [
    "### 6) Вывод информации о своих заказах для заказчика по статусу заказа"
   ]
  },
  {
   "cell_type": "code",
   "execution_count": null,
   "metadata": {},
   "outputs": [],
   "source": []
  },
  {
   "cell_type": "markdown",
   "metadata": {},
   "source": [
    "### 7) Вывод содержимого заказа(сложный)"
   ]
  },
  {
   "cell_type": "code",
   "execution_count": null,
   "metadata": {},
   "outputs": [],
   "source": []
  },
  {
   "cell_type": "markdown",
   "metadata": {},
   "source": [
    "### 8) Вывод информации о заказчиках"
   ]
  },
  {
   "cell_type": "markdown",
   "metadata": {},
   "source": [
    "### 9) Вывод значения прибыли завода за все время(сложный)"
   ]
  },
  {
   "cell_type": "markdown",
   "metadata": {},
   "source": [
    "### 10) Вывод значения прибыли завода от конкретного заказчика (сложный)"
   ]
  },
  {
   "cell_type": "markdown",
   "metadata": {},
   "source": [
    "### 11) Вывод информации о недостающих товарах на складе для существующих заказов (сложный)"
   ]
  },
  {
   "cell_type": "markdown",
   "metadata": {},
   "source": [
    "### 12) Вывод информации о недостающих товарах на складе для существующих заказов для конкретного заказчика (сложный)"
   ]
  },
  {
   "cell_type": "markdown",
   "metadata": {},
   "source": [
    "### 13) Вывод информации о сотрудниках завода(сложный)"
   ]
  }
 ],
 "metadata": {
  "kernelspec": {
   "display_name": "Python 3.10.6 64-bit",
   "language": "python",
   "name": "python3"
  },
  "language_info": {
   "codemirror_mode": {
    "name": "ipython",
    "version": 3
   },
   "file_extension": ".py",
   "mimetype": "text/x-python",
   "name": "python",
   "nbconvert_exporter": "python",
   "pygments_lexer": "ipython3",
   "version": "3.10.6"
  },
  "orig_nbformat": 4,
  "vscode": {
   "interpreter": {
    "hash": "30ec07c3b41748796cbfac44120dffd86f4e441c183af534b31dc38df35f33b3"
   }
  }
 },
 "nbformat": 4,
 "nbformat_minor": 2
}
